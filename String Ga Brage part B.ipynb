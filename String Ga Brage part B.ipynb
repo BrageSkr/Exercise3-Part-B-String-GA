{
 "cells": [
  {
   "cell_type": "code",
   "execution_count": 9,
   "id": "e287dce4",
   "metadata": {},
   "outputs": [
    {
     "name": "stdout",
     "output_type": "stream",
     "text": [
      "Best fit solution found: BRAGE_SKRETTINGLAND*585863\n"
     ]
    },
    {
     "data": {
      "image/png": "[encoded data removed]",
      "text/plain": [
       "<Figure size 432x288 with 1 Axes>"
      ]
     },
     "metadata": {
      "needs_background": "light"
     },
     "output_type": "display_data"
    },
    {
     "name": "stdout",
     "output_type": "stream",
     "text": [
      "Number of generations: 227\n"
     ]
    }
   ],
   "source": [
    "import random\n",
    "import matplotlib.pyplot as plt\n",
    "import string\n",
    "\n",
    "# Parameters\n",
    "target_string = \"BRAGE_SKRETTINGLAND*585863\"\n",
    "population_size = 500\n",
    "mutation_rate = 0.005\n",
    "crossover_rate = 0.9\n",
    "max_generations = 1000\n",
    "fitness_history = []\n",
    "# Function to generate random string\n",
    "def generate_random_string(length):\n",
    "    return ''.join(random.choice(string.ascii_uppercase + string.digits + '_*') for _ in range(length))\n",
    "\n",
    "# Function to generate initial population\n",
    "def generate_initial_population(population_size, target_string_length):\n",
    "    return [generate_random_string(target_string_length) for _ in range(population_size)]\n",
    "\n",
    "# Function to calculate fitness of an individual\n",
    "def calculate_fitness(individual):\n",
    "    score = sum(1 for c1, c2 in zip(individual, target_string) if c1 == c2)\n",
    "    return score / len(target_string)\n",
    "\n",
    "# Function for selection based on roulette wheel selection\n",
    "def select_parents(population, fitness_values):\n",
    "    total_fitness = sum(fitness_values)\n",
    "    probabilities = [fitness / total_fitness for fitness in fitness_values]\n",
    "    selected_parents = random.choices(population, weights=probabilities, k=2)\n",
    "    return selected_parents\n",
    "\n",
    "# Function for single-point crossover\n",
    "def crossover(parent1, parent2):\n",
    "    crossover_point = random.randint(0, len(parent1))\n",
    "    child1 = parent1[:crossover_point] + parent2[crossover_point:]\n",
    "    child2 = parent2[:crossover_point] + parent1[crossover_point:]\n",
    "    return child1, child2\n",
    "\n",
    "# Function for mutation\n",
    "def mutate(individual, mutation_rate):\n",
    "    mutated_individual = ''\n",
    "    for char in individual:\n",
    "        if random.random() < mutation_rate:\n",
    "            mutated_individual += random.choice(string.ascii_uppercase + string.digits + '_*')\n",
    "        else:\n",
    "            mutated_individual += char\n",
    "    return mutated_individual\n",
    "\n",
    "# Main function for Genetic Algorithm\n",
    "def genetic_algorithm():\n",
    "    population = generate_initial_population(population_size, len(target_string))\n",
    "\n",
    "    for generation in range(max_generations):\n",
    "        # Calculate fitness for each individual\n",
    "        fitness_values = [calculate_fitness(individual) for individual in population]\n",
    "        fitness_history.append(max(fitness_values))\n",
    "        # Check for best fit solution\n",
    "        best_fit_index = fitness_values.index(max(fitness_values))\n",
    "        if fitness_values[best_fit_index] == 1:\n",
    "            print(\"Best fit solution found:\", population[best_fit_index])\n",
    "            break\n",
    "\n",
    "        # Selection, Crossover, and Mutation\n",
    "        new_population = []\n",
    "        for _ in range(population_size // 2):\n",
    "            parent1, parent2 = select_parents(population, fitness_values)\n",
    "            child1, child2 = parent1, parent2  # Default: no crossover\n",
    "            if random.random() < crossover_rate:\n",
    "                child1, child2 = crossover(parent1, parent2)\n",
    "            child1 = mutate(child1, mutation_rate)\n",
    "            child2 = mutate(child2, mutation_rate)\n",
    "            new_population.extend([child1, child2])\n",
    "\n",
    "        # Replacement\n",
    "        population = new_population\n",
    "\n",
    "    else:\n",
    "        print(\"Maximum generations reached. Best fit solution not found.\", population[best_fit_index])\n",
    "\n",
    "        \n",
    "    plt.plot(fitness_history)\n",
    "    plt.xlabel('Generation')\n",
    "    plt.ylabel('Fitness')\n",
    "    plt.title('Development of Fitness Values')\n",
    "    plt.show()\n",
    "    print(\"Number of generations:\",len(fitness_history))\n",
    "    \n",
    "if __name__ == \"__main__\":\n",
    "    genetic_algorithm()\n",
    "\n"
   ]
  },
  {
   "cell_type": "code",
   "execution_count": null,
   "id": "9041fef2",
   "metadata": {},
   "outputs": [],
   "source": []
  },
  {
   "cell_type": "code",
   "execution_count": null,
   "id": "b621ba0c",
   "metadata": {},
   "outputs": [],
   "source": []
  }
 ],
 "metadata": {
  "kernelspec": {
   "display_name": "Python 3 (ipykernel)",
   "language": "python",
   "name": "python3"
  },
  "language_info": {
   "codemirror_mode": {
    "name": "ipython",
    "version": 3
   },
   "file_extension": ".py",
   "mimetype": "text/x-python",
   "name": "python",
   "nbconvert_exporter": "python",
   "pygments_lexer": "ipython3",
   "version": "3.9.12"
  }
 },
 "nbformat": 4,
 "nbformat_minor": 5
}
